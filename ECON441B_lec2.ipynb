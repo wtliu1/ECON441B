{
  "nbformat": 4,
  "nbformat_minor": 0,
  "metadata": {
    "colab": {
      "provenance": []
    },
    "kernelspec": {
      "name": "python3",
      "display_name": "Python 3"
    },
    "language_info": {
      "name": "python"
    }
  },
  "cells": [
    {
      "cell_type": "markdown",
      "source": [
        "# **Import the data from CCLE into a new Google Colab file**"
      ],
      "metadata": {
        "id": "uZgBhiQLdiLR"
      }
    },
    {
      "cell_type": "code",
      "source": [
        "import pandas as pd\n",
        "from google.colab import drive\n",
        "import matplotlib.pyplot as plt"
      ],
      "metadata": {
        "id": "nrhBRLJPdud6"
      },
      "execution_count": 2,
      "outputs": []
    },
    {
      "cell_type": "code",
      "source": [
        "drive.mount('/content/gdrive/', force_remount = True)"
      ],
      "metadata": {
        "colab": {
          "base_uri": "https://localhost:8080/",
          "height": 0
        },
        "id": "lLs8fLRBd4Zm",
        "outputId": "e518a103-85d6-4275-be28-e1d9c8e8d5ec"
      },
      "execution_count": 3,
      "outputs": [
        {
          "output_type": "stream",
          "name": "stdout",
          "text": [
            "Mounted at /content/gdrive/\n"
          ]
        }
      ]
    },
    {
      "cell_type": "code",
      "source": [
        "df = pd.read_csv(\"/content/gdrive/MyDrive/ECON441B_W/week2/insurance.csv\")"
      ],
      "metadata": {
        "id": "8dXjLi-yeDN6"
      },
      "execution_count": 16,
      "outputs": []
    },
    {
      "cell_type": "code",
      "source": [
        "df.loc[df[\"sex\"] == \"female\",\"sex\"] = 1.\n",
        "df.loc[df[\"sex\"] == \"male\",\"sex\"] = 0.\n",
        "\n",
        "### CONVERT smoker and region. Investigate scikit .LabelEncoder\n",
        "# smoker\n",
        "df.loc[df['smoker'] == 'yes', 'smoker'] = 1 \n",
        "df.loc[df['smoker'] == 'no', 'smoker'] = 0\n",
        "#region\n",
        "df['region1'] = df['region'] #southwest\n",
        "df.loc[df['region1'] == 'southwest', 'region1'] = 1 \n",
        "df.loc[df['region1'] == 'southeast', 'region1'] = 0 \n",
        "df.loc[df['region1'] == 'northwest', 'region1'] = 0 \n",
        "df.loc[df['region1'] == 'northeast', 'region1'] = 0\n",
        "\n",
        "df['region2'] = df['region'] #southeast\n",
        "df.loc[df['region2'] == 'southwest', 'region2'] = 0 \n",
        "df.loc[df['region2'] == 'southeast', 'region2'] = 1 \n",
        "df.loc[df['region2'] == 'northwest', 'region2'] = 0 \n",
        "df.loc[df['region2'] == 'northeast', 'region2'] = 0\n",
        "\n",
        "df['region3'] = df['region'] #northwest\n",
        "df.loc[df['region3'] == 'southwest', 'region3'] = 0 \n",
        "df.loc[df['region3'] == 'southeast', 'region3'] = 0 \n",
        "df.loc[df['region3'] == 'northwest', 'region3'] = 1 \n",
        "df.loc[df['region3'] == 'northeast', 'region3'] = 0\n",
        "\n",
        "df['region4'] = df['region'] #northeast\n",
        "df.loc[df['region4'] == 'southwest', 'region4'] = 0 \n",
        "df.loc[df['region4'] == 'southeast', 'region4'] = 0 \n",
        "df.loc[df['region4'] == 'northwest', 'region4'] = 0 \n",
        "df.loc[df['region4'] == 'northeast', 'region4'] = 1"
      ],
      "metadata": {
        "id": "-kW6d_3ierg8"
      },
      "execution_count": 17,
      "outputs": []
    },
    {
      "cell_type": "code",
      "source": [
        "df.head()"
      ],
      "metadata": {
        "colab": {
          "base_uri": "https://localhost:8080/",
          "height": 206
        },
        "id": "wTVc8cEYeut2",
        "outputId": "edcde7c0-fe4e-4695-d45c-5107fdd4c64d"
      },
      "execution_count": 18,
      "outputs": [
        {
          "output_type": "execute_result",
          "data": {
            "text/plain": [
              "   age  sex     bmi  children smoker     region      charges region1 region2  \\\n",
              "0   19  1.0  27.900         0      1  southwest  16884.92400       1       0   \n",
              "1   18  0.0  33.770         1      0  southeast   1725.55230       0       1   \n",
              "2   28  0.0  33.000         3      0  southeast   4449.46200       0       1   \n",
              "3   33  0.0  22.705         0      0  northwest  21984.47061       0       0   \n",
              "4   32  0.0  28.880         0      0  northwest   3866.85520       0       0   \n",
              "\n",
              "  region3 region4  \n",
              "0       0       0  \n",
              "1       0       0  \n",
              "2       0       0  \n",
              "3       1       0  \n",
              "4       1       0  "
            ],
            "text/html": [
              "\n",
              "  <div id=\"df-91d06023-de9a-4e65-9b0c-4c5eac4d2757\">\n",
              "    <div class=\"colab-df-container\">\n",
              "      <div>\n",
              "<style scoped>\n",
              "    .dataframe tbody tr th:only-of-type {\n",
              "        vertical-align: middle;\n",
              "    }\n",
              "\n",
              "    .dataframe tbody tr th {\n",
              "        vertical-align: top;\n",
              "    }\n",
              "\n",
              "    .dataframe thead th {\n",
              "        text-align: right;\n",
              "    }\n",
              "</style>\n",
              "<table border=\"1\" class=\"dataframe\">\n",
              "  <thead>\n",
              "    <tr style=\"text-align: right;\">\n",
              "      <th></th>\n",
              "      <th>age</th>\n",
              "      <th>sex</th>\n",
              "      <th>bmi</th>\n",
              "      <th>children</th>\n",
              "      <th>smoker</th>\n",
              "      <th>region</th>\n",
              "      <th>charges</th>\n",
              "      <th>region1</th>\n",
              "      <th>region2</th>\n",
              "      <th>region3</th>\n",
              "      <th>region4</th>\n",
              "    </tr>\n",
              "  </thead>\n",
              "  <tbody>\n",
              "    <tr>\n",
              "      <th>0</th>\n",
              "      <td>19</td>\n",
              "      <td>1.0</td>\n",
              "      <td>27.900</td>\n",
              "      <td>0</td>\n",
              "      <td>1</td>\n",
              "      <td>southwest</td>\n",
              "      <td>16884.92400</td>\n",
              "      <td>1</td>\n",
              "      <td>0</td>\n",
              "      <td>0</td>\n",
              "      <td>0</td>\n",
              "    </tr>\n",
              "    <tr>\n",
              "      <th>1</th>\n",
              "      <td>18</td>\n",
              "      <td>0.0</td>\n",
              "      <td>33.770</td>\n",
              "      <td>1</td>\n",
              "      <td>0</td>\n",
              "      <td>southeast</td>\n",
              "      <td>1725.55230</td>\n",
              "      <td>0</td>\n",
              "      <td>1</td>\n",
              "      <td>0</td>\n",
              "      <td>0</td>\n",
              "    </tr>\n",
              "    <tr>\n",
              "      <th>2</th>\n",
              "      <td>28</td>\n",
              "      <td>0.0</td>\n",
              "      <td>33.000</td>\n",
              "      <td>3</td>\n",
              "      <td>0</td>\n",
              "      <td>southeast</td>\n",
              "      <td>4449.46200</td>\n",
              "      <td>0</td>\n",
              "      <td>1</td>\n",
              "      <td>0</td>\n",
              "      <td>0</td>\n",
              "    </tr>\n",
              "    <tr>\n",
              "      <th>3</th>\n",
              "      <td>33</td>\n",
              "      <td>0.0</td>\n",
              "      <td>22.705</td>\n",
              "      <td>0</td>\n",
              "      <td>0</td>\n",
              "      <td>northwest</td>\n",
              "      <td>21984.47061</td>\n",
              "      <td>0</td>\n",
              "      <td>0</td>\n",
              "      <td>1</td>\n",
              "      <td>0</td>\n",
              "    </tr>\n",
              "    <tr>\n",
              "      <th>4</th>\n",
              "      <td>32</td>\n",
              "      <td>0.0</td>\n",
              "      <td>28.880</td>\n",
              "      <td>0</td>\n",
              "      <td>0</td>\n",
              "      <td>northwest</td>\n",
              "      <td>3866.85520</td>\n",
              "      <td>0</td>\n",
              "      <td>0</td>\n",
              "      <td>1</td>\n",
              "      <td>0</td>\n",
              "    </tr>\n",
              "  </tbody>\n",
              "</table>\n",
              "</div>\n",
              "      <button class=\"colab-df-convert\" onclick=\"convertToInteractive('df-91d06023-de9a-4e65-9b0c-4c5eac4d2757')\"\n",
              "              title=\"Convert this dataframe to an interactive table.\"\n",
              "              style=\"display:none;\">\n",
              "        \n",
              "  <svg xmlns=\"http://www.w3.org/2000/svg\" height=\"24px\"viewBox=\"0 0 24 24\"\n",
              "       width=\"24px\">\n",
              "    <path d=\"M0 0h24v24H0V0z\" fill=\"none\"/>\n",
              "    <path d=\"M18.56 5.44l.94 2.06.94-2.06 2.06-.94-2.06-.94-.94-2.06-.94 2.06-2.06.94zm-11 1L8.5 8.5l.94-2.06 2.06-.94-2.06-.94L8.5 2.5l-.94 2.06-2.06.94zm10 10l.94 2.06.94-2.06 2.06-.94-2.06-.94-.94-2.06-.94 2.06-2.06.94z\"/><path d=\"M17.41 7.96l-1.37-1.37c-.4-.4-.92-.59-1.43-.59-.52 0-1.04.2-1.43.59L10.3 9.45l-7.72 7.72c-.78.78-.78 2.05 0 2.83L4 21.41c.39.39.9.59 1.41.59.51 0 1.02-.2 1.41-.59l7.78-7.78 2.81-2.81c.8-.78.8-2.07 0-2.86zM5.41 20L4 18.59l7.72-7.72 1.47 1.35L5.41 20z\"/>\n",
              "  </svg>\n",
              "      </button>\n",
              "      \n",
              "  <style>\n",
              "    .colab-df-container {\n",
              "      display:flex;\n",
              "      flex-wrap:wrap;\n",
              "      gap: 12px;\n",
              "    }\n",
              "\n",
              "    .colab-df-convert {\n",
              "      background-color: #E8F0FE;\n",
              "      border: none;\n",
              "      border-radius: 50%;\n",
              "      cursor: pointer;\n",
              "      display: none;\n",
              "      fill: #1967D2;\n",
              "      height: 32px;\n",
              "      padding: 0 0 0 0;\n",
              "      width: 32px;\n",
              "    }\n",
              "\n",
              "    .colab-df-convert:hover {\n",
              "      background-color: #E2EBFA;\n",
              "      box-shadow: 0px 1px 2px rgba(60, 64, 67, 0.3), 0px 1px 3px 1px rgba(60, 64, 67, 0.15);\n",
              "      fill: #174EA6;\n",
              "    }\n",
              "\n",
              "    [theme=dark] .colab-df-convert {\n",
              "      background-color: #3B4455;\n",
              "      fill: #D2E3FC;\n",
              "    }\n",
              "\n",
              "    [theme=dark] .colab-df-convert:hover {\n",
              "      background-color: #434B5C;\n",
              "      box-shadow: 0px 1px 3px 1px rgba(0, 0, 0, 0.15);\n",
              "      filter: drop-shadow(0px 1px 2px rgba(0, 0, 0, 0.3));\n",
              "      fill: #FFFFFF;\n",
              "    }\n",
              "  </style>\n",
              "\n",
              "      <script>\n",
              "        const buttonEl =\n",
              "          document.querySelector('#df-91d06023-de9a-4e65-9b0c-4c5eac4d2757 button.colab-df-convert');\n",
              "        buttonEl.style.display =\n",
              "          google.colab.kernel.accessAllowed ? 'block' : 'none';\n",
              "\n",
              "        async function convertToInteractive(key) {\n",
              "          const element = document.querySelector('#df-91d06023-de9a-4e65-9b0c-4c5eac4d2757');\n",
              "          const dataTable =\n",
              "            await google.colab.kernel.invokeFunction('convertToInteractive',\n",
              "                                                     [key], {});\n",
              "          if (!dataTable) return;\n",
              "\n",
              "          const docLinkHtml = 'Like what you see? Visit the ' +\n",
              "            '<a target=\"_blank\" href=https://colab.research.google.com/notebooks/data_table.ipynb>data table notebook</a>'\n",
              "            + ' to learn more about interactive tables.';\n",
              "          element.innerHTML = '';\n",
              "          dataTable['output_type'] = 'display_data';\n",
              "          await google.colab.output.renderOutput(dataTable, element);\n",
              "          const docLink = document.createElement('div');\n",
              "          docLink.innerHTML = docLinkHtml;\n",
              "          element.appendChild(docLink);\n",
              "        }\n",
              "      </script>\n",
              "    </div>\n",
              "  </div>\n",
              "  "
            ]
          },
          "metadata": {},
          "execution_count": 18
        }
      ]
    },
    {
      "cell_type": "markdown",
      "source": [
        "# **Split the data into 80/20, in/out sample**"
      ],
      "metadata": {
        "id": "jLR5gbWKe9GE"
      }
    },
    {
      "cell_type": "code",
      "source": [
        "import numpy as np"
      ],
      "metadata": {
        "id": "XdKTYbRmfEFH"
      },
      "execution_count": 19,
      "outputs": []
    },
    {
      "cell_type": "code",
      "source": [
        "df1 = df[[\"age\", \"sex\", \"bmi\", \"children\", \"smoker\", \"region1\", \"region2\", \"region3\"]]\n",
        "data = np.array(df1)\n",
        "target = np.array(df.iloc[:, -5:-4])"
      ],
      "metadata": {
        "id": "yDrRORPRfPgp"
      },
      "execution_count": 20,
      "outputs": []
    },
    {
      "cell_type": "code",
      "source": [
        "data"
      ],
      "metadata": {
        "colab": {
          "base_uri": "https://localhost:8080/",
          "height": 0
        },
        "id": "tZXSZD3clHKG",
        "outputId": "c4690add-3e65-460d-a98a-9848ebc8d173"
      },
      "execution_count": 21,
      "outputs": [
        {
          "output_type": "execute_result",
          "data": {
            "text/plain": [
              "array([[19, 1.0, 27.9, ..., 1, 0, 0],\n",
              "       [18, 0.0, 33.77, ..., 0, 1, 0],\n",
              "       [28, 0.0, 33.0, ..., 0, 1, 0],\n",
              "       ...,\n",
              "       [18, 1.0, 36.85, ..., 0, 1, 0],\n",
              "       [21, 1.0, 25.8, ..., 1, 0, 0],\n",
              "       [61, 1.0, 29.07, ..., 0, 0, 1]], dtype=object)"
            ]
          },
          "metadata": {},
          "execution_count": 21
        }
      ]
    },
    {
      "cell_type": "code",
      "source": [
        "target"
      ],
      "metadata": {
        "colab": {
          "base_uri": "https://localhost:8080/",
          "height": 0
        },
        "id": "0EUc-K8P14V-",
        "outputId": "00556db4-7c6e-4bbc-cccb-93103d84615f"
      },
      "execution_count": 22,
      "outputs": [
        {
          "output_type": "execute_result",
          "data": {
            "text/plain": [
              "array([[16884.924 ],\n",
              "       [ 1725.5523],\n",
              "       [ 4449.462 ],\n",
              "       ...,\n",
              "       [ 1629.8335],\n",
              "       [ 2007.945 ],\n",
              "       [29141.3603]])"
            ]
          },
          "metadata": {},
          "execution_count": 22
        }
      ]
    },
    {
      "cell_type": "code",
      "source": [
        "cut = int((len(data) * .8) // 1)"
      ],
      "metadata": {
        "id": "u1K-jzHqfR9x"
      },
      "execution_count": 23,
      "outputs": []
    },
    {
      "cell_type": "code",
      "source": [
        "in_data = data[:cut]\n",
        "out_data = data[cut:]\n",
        "\n",
        "in_target = target[:cut]\n",
        "out_target = target[cut:]"
      ],
      "metadata": {
        "id": "0TNT4hLufUrW"
      },
      "execution_count": 24,
      "outputs": []
    },
    {
      "cell_type": "markdown",
      "source": [
        "# **Normalize the Data**"
      ],
      "metadata": {
        "id": "sFQN1Nbxlh-V"
      }
    },
    {
      "cell_type": "code",
      "source": [
        "from sklearn import preprocessing"
      ],
      "metadata": {
        "id": "7xiZpcFclg_g"
      },
      "execution_count": 25,
      "outputs": []
    },
    {
      "cell_type": "code",
      "source": [
        "scaler = preprocessing.StandardScaler().fit(in_data)\n",
        "in_data_scale = scaler.transform(in_data)\n",
        "\n",
        "out_data_scale = scaler.transform(out_data)"
      ],
      "metadata": {
        "id": "aiigBDEplxwe"
      },
      "execution_count": 26,
      "outputs": []
    },
    {
      "cell_type": "markdown",
      "source": [
        "# **Get lambda from Lasso cross validation**"
      ],
      "metadata": {
        "id": "NkeW0GrAmrMK"
      }
    },
    {
      "cell_type": "code",
      "source": [
        "from sklearn.linear_model import LassoCV"
      ],
      "metadata": {
        "id": "m_3tfQJXmqUm"
      },
      "execution_count": 27,
      "outputs": []
    },
    {
      "cell_type": "code",
      "source": [
        "modCV = LassoCV().fit(in_data_scale, in_target)"
      ],
      "metadata": {
        "colab": {
          "base_uri": "https://localhost:8080/",
          "height": 0
        },
        "id": "ATF_h1J4m0Fd",
        "outputId": "096d2e5e-e8d0-4683-95e4-bd21a90d738c"
      },
      "execution_count": 28,
      "outputs": [
        {
          "output_type": "stream",
          "name": "stderr",
          "text": [
            "/usr/local/lib/python3.8/dist-packages/sklearn/linear_model/_coordinate_descent.py:1571: DataConversionWarning: A column-vector y was passed when a 1d array was expected. Please change the shape of y to (n_samples, ), for example using ravel().\n",
            "  y = column_or_1d(y, warn=True)\n"
          ]
        }
      ]
    },
    {
      "cell_type": "code",
      "source": [
        "a = modCV.alpha_ #Optimized Lambda\n",
        "a"
      ],
      "metadata": {
        "colab": {
          "base_uri": "https://localhost:8080/",
          "height": 0
        },
        "id": "zlRG37ENnhnJ",
        "outputId": "88217d2d-e8a9-4807-ee9f-3ec049ba910f"
      },
      "execution_count": 29,
      "outputs": [
        {
          "output_type": "execute_result",
          "data": {
            "text/plain": [
              "115.9799859390741"
            ]
          },
          "metadata": {},
          "execution_count": 29
        }
      ]
    },
    {
      "cell_type": "markdown",
      "source": [
        "# **Run a lasso regression with that Lambda**"
      ],
      "metadata": {
        "id": "uYYpY1-1qtkv"
      }
    },
    {
      "cell_type": "code",
      "source": [
        "from sklearn.linear_model import Lasso\n",
        "model = Lasso(alpha = a).fit(in_data_scale, in_target)\n",
        "in_y_pred = model.predict(in_data_scale)\n",
        "out_y_pred = model.predict(out_data_scale)"
      ],
      "metadata": {
        "id": "onJ_vCA-qv9k"
      },
      "execution_count": 30,
      "outputs": []
    },
    {
      "cell_type": "code",
      "source": [
        "model.coef_"
      ],
      "metadata": {
        "colab": {
          "base_uri": "https://localhost:8080/",
          "height": 0
        },
        "id": "YGQCs65rtEgK",
        "outputId": "d2e36400-9e44-48ec-f9cc-5deb68488d9d"
      },
      "execution_count": 31,
      "outputs": [
        {
          "output_type": "execute_result",
          "data": {
            "text/plain": [
              "array([3580.35805206,    0.        , 1897.42890992,  415.06890389,\n",
              "       9345.10115447, -238.7634887 , -158.68185954,   -0.        ])"
            ]
          },
          "metadata": {},
          "execution_count": 31
        }
      ]
    },
    {
      "cell_type": "markdown",
      "source": [
        "# **Visualize the coefficients**"
      ],
      "metadata": {
        "id": "AIxNDQAsqwiZ"
      }
    },
    {
      "cell_type": "code",
      "source": [
        "plt.bar([\"age\", \"sex\", \"bmi\", \"children\", \"smoker\", \"region1\", \"region2\", \"region3\"], model.coef_)\n",
        "plt.xlabel(\"parameters\")\n",
        "plt.ylabel(\"coef\")\n",
        "plt.show()"
      ],
      "metadata": {
        "colab": {
          "base_uri": "https://localhost:8080/",
          "height": 279
        },
        "id": "ZAFqt_Diq79u",
        "outputId": "24a17f7a-a4d2-40dc-df63-731c655c752b"
      },
      "execution_count": 37,
      "outputs": [
        {
          "output_type": "display_data",
          "data": {
            "text/plain": [
              "<Figure size 432x288 with 1 Axes>"
            ],
            "image/png": "[encoded data removed]"
          },
          "metadata": {
            "needs_background": "light"
          }
        }
      ]
    },
    {
      "cell_type": "markdown",
      "source": [
        "# **Interpret the coefficients**"
      ],
      "metadata": {
        "id": "EUWc9_gtqzuP"
      }
    },
    {
      "cell_type": "markdown",
      "source": [
        "From the plot, we can conclude that \\\n",
        "**1.** Age has significant influence on buying health insurance.\\\n",
        "**2.** Sex has no influence on buying health insurance.\\\n",
        "**3.** Bmi has significantly influence the spending in health insurance.\\\n",
        "**4.** The family with children trend to spend more on health insurance.\\\n",
        "**5.** Smokers has strong influence to spend on health insurance.\\\n",
        "**6.** People live in southeast has more desire to buy health insurance."
      ],
      "metadata": {
        "id": "2FiDmPxM9piC"
      }
    },
    {
      "cell_type": "markdown",
      "source": [
        "# **Compare in and out of sample MSE’s**"
      ],
      "metadata": {
        "id": "dYtdt60kq3eB"
      }
    },
    {
      "cell_type": "code",
      "source": [
        "from sklearn.metrics import mean_squared_error\n",
        "out_sample_mse = mean_squared_error(out_y_pred, out_target)\n",
        "in_sampe_mse = mean_squared_error(in_y_pred, in_target)"
      ],
      "metadata": {
        "id": "0-CQUIyZq9Cz"
      },
      "execution_count": 35,
      "outputs": []
    },
    {
      "cell_type": "code",
      "source": [
        "plt.bar([\"in\", \"out\"], [in_sampe_mse, out_sample_mse])\n",
        "plt.xlabel(\"MSE\")\n",
        "plt.ylabel(\"Value\")\n",
        "plt.show()"
      ],
      "metadata": {
        "colab": {
          "base_uri": "https://localhost:8080/",
          "height": 290
        },
        "id": "wd4lUTsIur3N",
        "outputId": "54caa0bb-60f3-4e2c-9210-3fb8bb481bdb"
      },
      "execution_count": 36,
      "outputs": [
        {
          "output_type": "display_data",
          "data": {
            "text/plain": [
              "<Figure size 432x288 with 1 Axes>"
            ],
            "image/png": "[encoded data removed]"
          },
          "metadata": {
            "needs_background": "light"
          }
        }
      ]
    }
  ]
}